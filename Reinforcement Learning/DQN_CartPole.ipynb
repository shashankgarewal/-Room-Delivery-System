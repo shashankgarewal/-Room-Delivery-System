{
  "nbformat": 4,
  "nbformat_minor": 0,
  "metadata": {
    "colab": {
      "provenance": [],
      "authorship_tag": "ABX9TyMTYh+e3x8y3/gL1qMoQG1/",
      "include_colab_link": true
    },
    "kernelspec": {
      "name": "python3",
      "display_name": "Python 3"
    },
    "language_info": {
      "name": "python"
    }
  },
  "cells": [
    {
      "cell_type": "markdown",
      "metadata": {
        "id": "view-in-github",
        "colab_type": "text"
      },
      "source": [
        "<a href=\"https://colab.research.google.com/github/ShashankIITG/-Room-Delivery-System/blob/master/Reinforcement%20Learning/DQN_CartPole.ipynb\" target=\"_parent\"><img src=\"https://colab.research.google.com/assets/colab-badge.svg\" alt=\"Open In Colab\"/></a>"
      ]
    },
    {
      "cell_type": "code",
      "source": [
        "!pip install gymnasium"
      ],
      "metadata": {
        "colab": {
          "base_uri": "https://localhost:8080/"
        },
        "id": "nxtl8Yxvwl1G",
        "outputId": "0f9c0050-7c4a-4010-942e-71dd5fe49a6b"
      },
      "execution_count": 1,
      "outputs": [
        {
          "output_type": "stream",
          "name": "stdout",
          "text": [
            "Looking in indexes: https://pypi.org/simple, https://us-python.pkg.dev/colab-wheels/public/simple/\n",
            "Collecting gymnasium\n",
            "  Downloading gymnasium-0.27.1-py3-none-any.whl (883 kB)\n",
            "\u001b[2K     \u001b[90m━━━━━━━━━━━━━━━━━━━━━━━━━━━━━━━━━━━━━━\u001b[0m \u001b[32m883.7/883.7 KB\u001b[0m \u001b[31m15.8 MB/s\u001b[0m eta \u001b[36m0:00:00\u001b[0m\n",
            "\u001b[?25hRequirement already satisfied: numpy>=1.21.0 in /usr/local/lib/python3.8/dist-packages (from gymnasium) (1.21.6)\n",
            "Requirement already satisfied: importlib-metadata>=4.8.0 in /usr/local/lib/python3.8/dist-packages (from gymnasium) (6.0.0)\n",
            "Requirement already satisfied: cloudpickle>=1.2.0 in /usr/local/lib/python3.8/dist-packages (from gymnasium) (2.2.1)\n",
            "Collecting jax-jumpy>=0.2.0\n",
            "  Downloading jax_jumpy-0.2.0-py3-none-any.whl (11 kB)\n",
            "Requirement already satisfied: typing-extensions>=4.3.0 in /usr/local/lib/python3.8/dist-packages (from gymnasium) (4.4.0)\n",
            "Collecting gymnasium-notices>=0.0.1\n",
            "  Downloading gymnasium_notices-0.0.1-py3-none-any.whl (2.8 kB)\n",
            "Requirement already satisfied: zipp>=0.5 in /usr/local/lib/python3.8/dist-packages (from importlib-metadata>=4.8.0->gymnasium) (3.12.0)\n",
            "Installing collected packages: gymnasium-notices, jax-jumpy, gymnasium\n",
            "Successfully installed gymnasium-0.27.1 gymnasium-notices-0.0.1 jax-jumpy-0.2.0\n"
          ]
        }
      ]
    },
    {
      "cell_type": "code",
      "execution_count": null,
      "metadata": {
        "id": "wdCSVhoqM0R2"
      },
      "outputs": [],
      "source": [
        "import gymnasium as gym\n",
        "import random\n",
        "import numpy as np\n",
        "from collections import deque\n",
        "\n",
        "from keras.models import Sequential\n",
        "from keras.layers import Input, Dropout, Dense\n",
        "from keras.optimizers import Adam"
      ]
    },
    {
      "cell_type": "code",
      "source": [],
      "metadata": {
        "id": "ExxWSvcbddyD"
      },
      "execution_count": null,
      "outputs": []
    },
    {
      "cell_type": "code",
      "source": [
        "class DQNagent:\n",
        "    \"\"\"\n",
        "    The agent that explores the game env and learn to play the game by \n",
        "    predicted the expected long-term return, the Q values given a state-action pair.\n",
        "\n",
        "    DQN agent: 2 main component\n",
        "      memory: stores gameplay experience \n",
        "      neural network/brain: provide action for a given state based on replay buffer\n",
        "      \n",
        "      replay buffer: DQN agent neural network use only the experience contained in replay buffer improving weights and qsa\n",
        "    \"\"\"\n",
        "    def __init__(self, state_size, action_size):\n",
        "      self.memory = deque(maxlen = 2000)\n",
        "\n",
        "    def store_experience(self, state, action, reward, gameover, next_state):\n",
        "      \"\"\"\n",
        "      FUNCTION- store_experience: record a single step outcome in memory\n",
        "      INPUT- state: the current game state\n",
        "      INPUT- action: the action taken at current game state\n",
        "      INPUT- reward: the reward received from env. for the action\n",
        "      INPUT- gameover: a bolean indicating env (terminated or truncated) or not\n",
        "      INPUT- next_state: the game state after taking action\n",
        "      return- none\n",
        "      \"\"\"\n",
        "      self.memory.append(state, action, reward, gameover, next_state)\n",
        "\n",
        "    def model(self):\n",
        "      \"\"\"\n",
        "      function desc; creates and compile a model\n",
        "      return; model: neural network whose weights and baises will help in\n",
        "      predicting optimial Q value.\n",
        "      \"\"\"\n",
        "      model = Sequential()\n",
        "      \n",
        "      return model\n",
        "\n",
        "    def replay_buffer(self, buffer_size):\n",
        "      \"\"\"\n",
        "      samples a batch of gameplay experience for training\n",
        "\n",
        "      return: a list of gameplay experience\n",
        "      \"\"\"\n",
        "      buffer = 0\n",
        "\n",
        "      return buffer\n",
        "\n",
        "    def action_policy(self, state):\n",
        "      \"\"\"\n",
        "      desc; This policy returns an action to take next-step.\n",
        "\n",
        "      params; state: the current state of the game env\n",
        "      return; an action\n",
        "      \"\"\"\n",
        "      action = 0\n",
        "      return action\n",
        "\n",
        "    def train(self, buffer):\n",
        "      \"\"\"\n",
        "      function desc; trains the underlying network with a batch of gameplay experience\n",
        "      to predict optimal Q values.\n",
        "      params; buffer: a batch of gameplay experience \n",
        "      return; training_loss\n",
        "      \"\"\"\n",
        "      loss = 0\n",
        "\n",
        "      return loss\n"
      ],
      "metadata": {
        "id": "wJr_wnEHT3sD"
      },
      "execution_count": null,
      "outputs": []
    },
    {
      "cell_type": "code",
      "source": [],
      "metadata": {
        "colab": {
          "base_uri": "https://localhost:8080/"
        },
        "id": "mdilx1hUuQRq",
        "outputId": "c74a448e-d322-4bcc-bb96-533363b1c071"
      },
      "execution_count": 2,
      "outputs": [
        {
          "output_type": "execute_result",
          "data": {
            "text/plain": [
              "0.05"
            ]
          },
          "metadata": {},
          "execution_count": 2
        }
      ]
    },
    {
      "cell_type": "code",
      "source": [
        "# Hyperparameters\n",
        "\n",
        "# training parameters\n",
        "learning_rate = 1e-7\n",
        "\n",
        "# game env parameters\n",
        "max_episodes = 2000\n",
        "max_steps = 600\n",
        "gamma = 0.995 # discount rate\n",
        "\n",
        "# exploration parameters\n",
        "max_epsilon = 1.0\n",
        "min_epsilon = 5e-02\n",
        "epsilon_decay = 0.0005"
      ],
      "metadata": {
        "id": "UpwbCq9lqxe6"
      },
      "execution_count": null,
      "outputs": []
    }
  ]
}